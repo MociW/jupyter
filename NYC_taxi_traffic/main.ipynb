{
 "cells": [
  {
   "cell_type": "code",
   "execution_count": null,
   "metadata": {},
   "outputs": [],
   "source": []
  }
 ],
 "metadata": {
  "kernelspec": {
   "display_name": "Python 3.10.5 64-bit",
   "language": "python",
   "name": "python3"
  },
  "language_info": {
   "name": "python",
   "version": "3.10.5"
  },
  "orig_nbformat": 4,
  "vscode": {
   "interpreter": {
    "hash": "c5297107f82d6bf70b2f3d7cb2b13b58ce293163f8a3cc00337993c35ac39b68"
   }
  }
 },
 "nbformat": 4,
 "nbformat_minor": 2
}
